{
  "cells": [
    {
      "cell_type": "markdown",
      "metadata": {
        "id": "view-in-github",
        "colab_type": "text"
      },
      "source": [
        "<a href=\"https://colab.research.google.com/github/madhurchouhan01/Face-Recognition-using-DeepFace/blob/main/face_recognition_using_deepface.ipynb\" target=\"_parent\"><img src=\"https://colab.research.google.com/assets/colab-badge.svg\" alt=\"Open In Colab\"/></a>"
      ]
    },
    {
      "cell_type": "code",
      "execution_count": null,
      "metadata": {
        "id": "YZjdfz9jOw71"
      },
      "outputs": [],
      "source": [
        "!pip install opencv-python deepface"
      ]
    },
    {
      "cell_type": "code",
      "execution_count": 2,
      "metadata": {
        "id": "3LisMofUQLE0",
        "colab": {
          "base_uri": "https://localhost:8080/"
        },
        "outputId": "5f7ae745-3080-4dd2-8828-2a738d883b4e"
      },
      "outputs": [
        {
          "output_type": "stream",
          "name": "stdout",
          "text": [
            "24-04-10 10:15:06 - Directory /root/.deepface created\n",
            "24-04-10 10:15:06 - Directory /root/.deepface/weights created\n"
          ]
        }
      ],
      "source": [
        "import threading\n",
        "import cv2\n",
        "from deepface import DeepFace\n",
        "# from google.colab import drive"
      ]
    },
    {
      "cell_type": "code",
      "execution_count": 3,
      "metadata": {
        "colab": {
          "base_uri": "https://localhost:8080/"
        },
        "id": "lQHumqgScVnk",
        "outputId": "e30704bf-7520-4ddd-f8e0-c775dac1616e"
      },
      "outputs": [
        {
          "output_type": "stream",
          "name": "stdout",
          "text": [
            "Mounted at /content/drive\n"
          ]
        }
      ],
      "source": [
        "# drive.mount('/content/drive')"
      ]
    },
    {
      "cell_type": "code",
      "execution_count": 4,
      "metadata": {
        "id": "zLljMDsdd6-N"
      },
      "outputs": [],
      "source": [
        "# vid_path = '/content/drive/MyDrive/ref_vid2.mp4'\n"
      ]
    },
    {
      "cell_type": "code",
      "execution_count": 5,
      "metadata": {
        "id": "VD8EHAMeVboD"
      },
      "outputs": [],
      "source": [
        "cap = cv2.VideoCapture(vid_path)\n",
        "cap.set(cv2.CAP_PROP_FRAME_WIDTH, 640)\n",
        "cap.set(cv2.CAP_PROP_FRAME_HEIGHT, 480)"
      ]
    },
    {
      "cell_type": "code",
      "execution_count": 6,
      "metadata": {
        "id": "r_FyMqQdWuJI"
      },
      "outputs": [],
      "source": [
        "counter = 0\n",
        "face_match = False\n",
        "ref_img = cv2.imread('ref.jpg')"
      ]
    },
    {
      "cell_type": "code",
      "execution_count": 7,
      "metadata": {
        "id": "vA_DzbVeYJ3u"
      },
      "outputs": [],
      "source": [
        "def check_face(frame):\n",
        "  global face_match\n",
        "  try:\n",
        "    if DeepFace.verify(frame,ref_img.copy())['verified']:\n",
        "      face_match = True\n",
        "    else:\n",
        "      face_match = False\n",
        "  except ValueError:\n",
        "    face_match = False"
      ]
    },
    {
      "cell_type": "code",
      "execution_count": null,
      "metadata": {
        "id": "LqnN5k00XWwW"
      },
      "outputs": [],
      "source": [
        "# from google.colab.patches import cv2_imshow\n",
        "while True:\n",
        "  ret, frame = cap.read()\n",
        "  if ret:\n",
        "    if counter%30 == 0:\n",
        "      try:\n",
        "        threading.Thread(target = check_face, args=(frame.copy(),)).start()\n",
        "      except ValueError:\n",
        "        pass\n",
        "      counter += 1\n",
        "    if face_match:\n",
        "      cv2.putText(frame, \"MATCH!\",(20,450),cv2.FONT_HERSHEY_SIMPLEX,2,(0,255,0),3)\n",
        "    else:\n",
        "      cv2.putText(frame, \"Not MATCH!\",(20,450),cv2.FONT_HERSHEY_SIMPLEX,2,(0,0,255),3)\n",
        "    cv2.imshow('video',frame)\n",
        "\n",
        "  key = cv2.waitKey(1)\n",
        "  if key == ord('q'):\n",
        "    break\n",
        "cv2.destroyAllWindows()"
      ]
    }
  ],
  "metadata": {
    "accelerator": "GPU",
    "colab": {
      "gpuType": "T4",
      "provenance": [],
      "authorship_tag": "ABX9TyMervySivTKfuYw45iNYsKD",
      "include_colab_link": true
    },
    "kernelspec": {
      "display_name": "Python 3",
      "name": "python3"
    },
    "language_info": {
      "name": "python"
    }
  },
  "nbformat": 4,
  "nbformat_minor": 0
}